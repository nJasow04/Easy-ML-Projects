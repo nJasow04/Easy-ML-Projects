{
  "cells": [
    {
      "cell_type": "markdown",
      "metadata": {
        "id": "6rKFDuvspBrR"
      },
      "source": [
        "ASSIGNMENT 1: CALCULATOR\n",
        "\n",
        "In this assignment, your challenge is to create a four function calculator using a calculator class containing 4 operator functions (add, subtract, multiply, divide). It should have a constructor, member variables, and member functions."
      ]
    },
    {
      "cell_type": "code",
      "execution_count": 7,
      "metadata": {
        "id": "8qQbnfx-o6n4"
      },
      "outputs": [],
      "source": [
        "# To get started, create a Calculator class. It should have the member variables of color, brand and owner which are created in the constructor.\n",
        "\n",
        "# Let's first define the class using the class keyword, i.e. class ClassName:\n",
        "\n",
        "#################################\n",
        "# Your Code Starts Here\n",
        "#################################\n",
        "\n",
        "#define class\n",
        "\n",
        "class Calculator:\n",
        "\n",
        "#################################\n",
        "# Your Code Ends Here\n",
        "#################################\n",
        "\n",
        "# A constructor can be created using def __init__(self, param1, param2, etc.): where param1 and param2 are the member variables.\n",
        "# The next few lines should set the member variables to the values passed into the constructor, e.g. self.param1 = param1, self.param2 = param2, etc.\n",
        "# So, our example with two member variables param1 and param2 would be:\n",
        "#   def __init__(self, param1, param2):\n",
        "#     self.param1 = param1\n",
        "#     self.param2 = param2\n",
        "# Remember that we are still writing the various components of the class. Don't forget to indent!\n",
        "\n",
        "#################################\n",
        "# Your Code Starts Here\n",
        "#################################\n",
        "\n",
        "  #define constructor\n",
        "  def __init__(self, color, brand, owner):\n",
        "        self.color = color\n",
        "        self.brand = brand\n",
        "        self.owner = owner\n",
        "\n",
        "#################################\n",
        "# Your Code Ends Here\n",
        "#################################\n",
        "\n",
        "# The class should then contain the 4 operator functions which take in numerical values and return the result.\n",
        "# We've done the add function already for you below.\n",
        "\n",
        "  def add(self, val1, val2):\n",
        "    return val1 + val2\n",
        "\n",
        "# Now, create functions for the other 3 variables. Remember to properly indent!\n",
        "\n",
        "#################################\n",
        "# Your Code Starts Here\n",
        "#################################\n",
        "\n",
        "  #subtract\n",
        "  def subtract(self, val1, val2):\n",
        "        return val1 - val2\n",
        "\n",
        "  #multiply\n",
        "  def multiply(self, val1, val2):\n",
        "        return val1 * val2\n",
        "\n",
        "  #divide\n",
        "  def divide(self, val1, val2):\n",
        "        if val2 == 0:\n",
        "            return \"Error: Division by zero\"\n",
        "        return val1 / val2\n",
        "\n",
        "\n",
        "#################################\n",
        "# Your Code Ends Here\n",
        "#################################\n",
        "\n",
        "# Lastly, the class should have a function called do_calculation with only a self parameter.\n",
        "# This do_calculation function prompts the user to input values and an operator, and prints out the corresponding output to the console.\n",
        "\n",
        "#################################\n",
        "# Your Code Starts Here\n",
        "#################################\n",
        "\n",
        "  #do_calculation function\n",
        "  def do_calculation(self):\n",
        "    #input one\n",
        "    v1 = int(input(\"Enter a number: \"))\n",
        "    #input two\n",
        "    v2 = int(input(\"Enter a number: \"))\n",
        "\n",
        "    #operator input\n",
        "    op = input(\"Enter operator (+, -, x, /): \").lower()\n",
        "\n",
        "    #if-else statments to run calculations\n",
        "    #add\n",
        "    if (op == \"+\"):\n",
        "      print(self.add(v1, v2))\n",
        "    #subtract\n",
        "    elif (op == \"-\"):\n",
        "      print(self.subtract(v1, v2))\n",
        "    \n",
        "    #multiply\n",
        "    elif (op == \"x\"):\n",
        "      print(self.multiply(v1, v2))\n",
        "\n",
        "    #divide\n",
        "    elif (op == \"/\"):\n",
        "      print(self.divide(v1, v2))\n",
        "\n",
        "    #invalid input case\n",
        "    else:\n",
        "      print(\"Invalid operation\")\n",
        "\n",
        "#################################\n",
        "# Your Code Ends Here\n",
        "#################################\n",
        "\n"
      ]
    },
    {
      "cell_type": "markdown",
      "metadata": {
        "id": "oaZjpB3JuQJN"
      },
      "source": [
        "Now let us create an instance of that class we just wrote. This is somewhat similar to creating a new car at an auto plant; think of it as the creation of an object of the car class. An object is *instantiated* as such:\n",
        "\n",
        "`object = Class(self, param1, param2, etc.)`"
      ]
    },
    {
      "cell_type": "code",
      "execution_count": 8,
      "metadata": {
        "id": "L0mQgFr3u1sB"
      },
      "outputs": [],
      "source": [
        "#################################\n",
        "# Your Code Starts Here\n",
        "#################################\n",
        "\n",
        "  #create an instance of the Calculator class\n",
        "my_calc = Calculator(\"Black\", \"Casio\", \"Jason\")\n",
        "\n",
        "#################################\n",
        "# Your Code Ends Here\n",
        "#################################"
      ]
    },
    {
      "cell_type": "markdown",
      "metadata": {
        "id": "cqxQI4tbvOn-"
      },
      "source": [
        "Now, let's run the do_calculation function to run the calculator!"
      ]
    },
    {
      "cell_type": "code",
      "execution_count": 9,
      "metadata": {
        "id": "dqqUxnHmvZfn"
      },
      "outputs": [
        {
          "name": "stdout",
          "output_type": "stream",
          "text": [
            "18\n"
          ]
        }
      ],
      "source": [
        "#replace my_calc with whatever name you used to instantiate the object in the previous code block.\n",
        "my_calc.do_calculation()"
      ]
    },
    {
      "cell_type": "markdown",
      "metadata": {
        "id": "sqJcmm50vjNR"
      },
      "source": [
        "Congratulations, you have now used objects and classes to create a fully functioning basic calculator in Python!\n",
        "\n",
        "Write your report below:\n",
        "\n",
        "My calculator code declares a calculator class with a constructor that instantiates the calculators color, brand, and owner. It then declares 4 of the basic math functions addition, subtraction, multiplication, and division. Finally, it declares the do_calculation() function that prompts the user for two integers and an operation with the possibilities: +, -, x, /. If the user gives an incorrect operation, the function prints an error. \n",
        "\n",
        "Challenges Incurred: I initially used if and else states instead of if, elif, and else statements, so even if a user inputted a valid operation, it would produce the correct answer and an error message."
      ]
    }
  ],
  "metadata": {
    "colab": {
      "provenance": []
    },
    "kernelspec": {
      "display_name": "Python 3",
      "name": "python3"
    },
    "language_info": {
      "codemirror_mode": {
        "name": "ipython",
        "version": 3
      },
      "file_extension": ".py",
      "mimetype": "text/x-python",
      "name": "python",
      "nbconvert_exporter": "python",
      "pygments_lexer": "ipython3",
      "version": "3.8.16"
    }
  },
  "nbformat": 4,
  "nbformat_minor": 0
}
