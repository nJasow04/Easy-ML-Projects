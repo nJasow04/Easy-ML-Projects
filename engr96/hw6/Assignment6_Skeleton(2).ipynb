{
  "cells": [
    {
      "cell_type": "markdown",
      "metadata": {
        "id": "qfT61medTBY6"
      },
      "source": [
        "# Homework 6"
      ]
    },
    {
      "cell_type": "code",
      "execution_count": 1,
      "metadata": {
        "id": "JSocVUB5H3nw"
      },
      "outputs": [],
      "source": [
        "import torch\n",
        "import torch.nn as nn\n",
        "import torch.nn.functional as F\n",
        "import numpy as np"
      ]
    },
    {
      "cell_type": "code",
      "execution_count": 3,
      "metadata": {
        "id": "BiGWvFvQdnIZ"
      },
      "outputs": [],
      "source": [
        "np.random.seed(0)\n",
        "in1_numpy = np.random.randint(256, size=(3,3))\n",
        "in1 = torch.tensor(in1_numpy)\n",
        "\n",
        "training_data_numpy = np.random.randint(256, size=(99, 3, 3))\n",
        "training_data = torch.tensor(training_data_numpy, dtype=torch.float)\n",
        "\n",
        "in1_flattened = torch.reshape(in1, (1, 9))\n",
        "training_data_flattened = torch.reshape(training_data, (-1, 9))\n",
        "training_data_flattened = torch.cat((in1_flattened, training_data_flattened), dim=0)\n",
        "\n",
        "picture_labels_numpy = np.random.randint(4, size=(100))\n",
        "picture_labels = torch.tensor(picture_labels_numpy, dtype=torch.long)"
      ]
    },
    {
      "cell_type": "markdown",
      "metadata": {
        "id": "bEuH44pEq7gJ"
      },
      "source": [
        "Now that you have seen how a fully connected neural network works in last week's homework we are going to convert everything into PyTorch. When building actual neural networks in PyTorch we are going to use a class to represent the network. We will train an instance of this class for our model.\n",
        "\n",
        "🔃 Task 1: Create a class that will represent your neural network structure. You may add any layers you want to this, but keep in mind that between linear layers you are going to want a ReLu. Create the \\_\\_init__() and forward() methods for the class.\n",
        "\n",
        "The list of layers PyTorch has available can be easily found on Google. The syntax for using them in your constructor is self.layerX = torch.nn.LayerType(Parameters).\n",
        "\n",
        "Hint: Fully Connected Layers are referred to as linear layers in PyTorch.\n",
        "\n",
        "Recall: What were the dimensions of the weight matrices in last week's assignment?"
      ]
    },
    {
      "cell_type": "code",
      "execution_count": 23,
      "metadata": {
        "id": "fdm5UTzAsXuj"
      },
      "outputs": [],
      "source": [
        "########################\n",
        "## YOUR CODE STARTS HERE\n",
        "########################\n",
        "\n",
        "class Animal_Classifier(nn.Module):\n",
        "  def __init__(self):\n",
        "    super(Animal_Classifier, self).__init__()\n",
        "    # put your linear layers here\n",
        "    \n",
        "    self.layer1 = nn.Linear(9, 128)\n",
        "    self.layer2 = nn.Linear(128, 64)\n",
        "    self.output_layer = nn.Linear(64, 4)\n",
        "\n",
        "  def forward(self, x):\n",
        "        # Define the forward pass\n",
        "        x = F.relu(self.layer1(x))  # Apply ReLU activation function after first linear layer\n",
        "        x = F.relu(self.layer2(x))  # Apply ReLU activation function after second linear layer\n",
        "        x = self.output_layer(x)  # No activation function here, will be applied in the loss function\n",
        "        return x\n",
        "\n",
        "model = Animal_Classifier()\n",
        "########################\n",
        "## YOUR CODE ENDS HERE\n",
        "########################"
      ]
    },
    {
      "cell_type": "markdown",
      "metadata": {
        "id": "8cQIXBT5zS0p"
      },
      "source": [
        "⛳ Task 2: Use the following training loop to train your model. Don't worry about splitting this model into training and testing data, these are just random values so they should not actually train to anything relevant."
      ]
    },
    {
      "cell_type": "code",
      "execution_count": 24,
      "metadata": {
        "id": "0-CS9MVbzc_C"
      },
      "outputs": [
        {
          "name": "stdout",
          "output_type": "stream",
          "text": [
            "12.060713768005371\n",
            "18.172605514526367\n",
            "36.544612884521484\n",
            "51.59947204589844\n",
            "14.004297256469727\n",
            "3.266611099243164\n",
            "1.7757105827331543\n",
            "1.5319589376449585\n",
            "1.6709080934524536\n",
            "1.614730954170227\n"
          ]
        }
      ],
      "source": [
        "num_epochs = 10\n",
        "learning_rate = 0.001\n",
        "momentum = 1\n",
        "num_epochs_to_print = 1\n",
        "\n",
        "criterion = nn.CrossEntropyLoss()\n",
        "optimizer = torch.optim.SGD(model.parameters(), lr=learning_rate, momentum=momentum)\n",
        "\n",
        "for i in range(num_epochs):\n",
        "\n",
        "  optimizer.zero_grad()\n",
        "\n",
        "  outputs = model(training_data_flattened)\n",
        "  loss = criterion(outputs, picture_labels)\n",
        "  loss.backward()\n",
        "  optimizer.step()\n",
        "\n",
        "  if i % num_epochs_to_print == 0:\n",
        "    print(loss.item())"
      ]
    },
    {
      "cell_type": "markdown",
      "metadata": {},
      "source": [
        "### Write Your Report Here\n",
        "Introduction:\n",
        "We developed a neural network using PyTorch to classify 3x3 pixel images into four categories. The process involved preparing the data, designing the network architecture, and implementing it in PyTorch.\n",
        "\n",
        "Data Preparation:\n",
        "Generated random 3x3 pixel images and labels using NumPy.\n",
        "Converted images and labels to PyTorch tensors, flattened the images for neural network input, and concatenated all data into a single tensor.\n",
        "\n",
        "Neural Network Design:\n",
        "Created a Animal_Classifier class with an input layer for 9-pixel data, two hidden layers with ReLU activations (128 and 64 neurons), and an output layer producing four scores for classification.\n",
        "\n",
        "Implementation:\n",
        "Defined the network structure in the __init__ method and data flow in the forward method. Instantiated the Animal_Classifier model, ready for training with the prepared data.\n",
        "\n",
        "Conclusion:\n",
        "Implemented a basic neural network in PyTorch for classifying small pixel images, demonstrating the use of linear layers, ReLU activations, and data preparation in PyTorch.\n"
      ]
    }
  ],
  "metadata": {
    "colab": {
      "provenance": []
    },
    "kernelspec": {
      "display_name": "Python 3",
      "name": "python3"
    },
    "language_info": {
      "codemirror_mode": {
        "name": "ipython",
        "version": 3
      },
      "file_extension": ".py",
      "mimetype": "text/x-python",
      "name": "python",
      "nbconvert_exporter": "python",
      "pygments_lexer": "ipython3",
      "version": "3.8.16"
    }
  },
  "nbformat": 4,
  "nbformat_minor": 0
}
