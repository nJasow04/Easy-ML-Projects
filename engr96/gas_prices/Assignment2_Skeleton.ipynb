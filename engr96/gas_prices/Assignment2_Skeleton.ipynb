{
  "cells": [
    {
      "cell_type": "markdown",
      "metadata": {
        "id": "jlJf10QkEx4k"
      },
      "source": [
        "📕 Hi students, this is the in-lecture notebook 📓 that you need to complete before the end of the class.\n",
        "\n",
        "\n",
        "Lecture 2 is about **libraries** in Python, and we are going to cover `Numpy` and `matplotlib`. This notebook companion is for you to practice what you learned from the lecture."
      ]
    },
    {
      "cell_type": "markdown",
      "metadata": {
        "id": "VDTfrMoYI27J"
      },
      "source": [
        "### Check your Python version 😀\n",
        "\n",
        "\n",
        "As of Janurary 1, 2020, Python has [officially dropped support](https://www.python.org/doc/sunset-python-2/) for `python2`. We'll be using Python 3.7 for this course.\n",
        "\n",
        "Run the following code to see your python version! 🐣\n",
        "\n"
      ]
    },
    {
      "cell_type": "code",
      "execution_count": 1,
      "metadata": {
        "colab": {
          "base_uri": "https://localhost:8080/"
        },
        "id": "G08Ha39HJCgC",
        "outputId": "11ff91ad-e3bd-4fea-a3ce-afcc4922a68f"
      },
      "outputs": [
        {
          "name": "stdout",
          "output_type": "stream",
          "text": [
            "Python 3.8.16\n"
          ]
        }
      ],
      "source": [
        "!python --version"
      ]
    },
    {
      "cell_type": "markdown",
      "metadata": {
        "id": "qIX7ZIdAIllp"
      },
      "source": [
        "## Numpy ⚓"
      ]
    },
    {
      "cell_type": "markdown",
      "metadata": {
        "id": "GWF-44l1IpGZ"
      },
      "source": [
        "Numpy is the core library for scientific computing in Python. It provides a high-performance multidimensional array object, and tools for working with these arrays.\n",
        "\n",
        "To use Numpy, we first need to import the numpy package:\n",
        "\n",
        "You can import the a package by\n",
        "\n",
        "```\n",
        "import package_name as alias\n",
        "```\n"
      ]
    },
    {
      "cell_type": "code",
      "execution_count": 2,
      "metadata": {
        "id": "RtpYZRJ3J06N"
      },
      "outputs": [],
      "source": [
        "# Import packages\n",
        "########################\n",
        "## YOUR CODE STARTS HERE\n",
        "########################\n",
        "\n",
        "# Import the Numpy package (package_name = numpy) using the alias \"np\"\n",
        "import numpy as np\n",
        "\n",
        "########################\n",
        "## YOUR CODE ENDS HERE\n",
        "########################"
      ]
    },
    {
      "cell_type": "code",
      "execution_count": 3,
      "metadata": {
        "colab": {
          "base_uri": "https://localhost:8080/"
        },
        "id": "Oep-drAEdiwe",
        "outputId": "9dbe4d56-9140-4a30-92b5-a9c16d06f97a"
      },
      "outputs": [
        {
          "name": "stdout",
          "output_type": "stream",
          "text": [
            "Numpy version:  1.23.5\n"
          ]
        }
      ],
      "source": [
        "## You can use this code block to check your numpy version\n",
        "## Please finish and execute the previous code block first\n",
        "print(\"Numpy version: \", np.__version__)"
      ]
    },
    {
      "cell_type": "markdown",
      "metadata": {
        "id": "2zTxiWBXK8xv"
      },
      "source": [
        "Note that the package name is `numpy`, which means that you cannot change it to something else. However, you have the freedom to rename this package. Python programmers usually name the `numpy` package as \"np\".\n",
        "\n",
        "This is very important when you are collaborating with other Python programmers as you don't want to have different names for the same package."
      ]
    },
    {
      "cell_type": "markdown",
      "metadata": {
        "id": "7IjbUCaVr2q-"
      },
      "source": [
        "### Task 1: Create a simple (1D) numpy array\n",
        "\n",
        "Let's create a simple numpy array 😮\n",
        "\n",
        "Recall from last lecture, we can create a Python list with this simple command.\n",
        "\n",
        "\n",
        "\n",
        "```\n",
        "## Create a list\n",
        "num_list = [1, 2, 3]\n",
        "\n",
        "## What is the length of this list?\n",
        "num_shape = len(num_list)\n",
        "\n",
        "## Print out the result\n",
        "print(num_shape)\n",
        "```\n",
        "\n",
        "We can use a python list to initialize our numpy array\n",
        "\n",
        "\n",
        "\n",
        "```\n",
        "## Initialize a numpy array with python list\n",
        "num_numpy = np.array(num_list)\n",
        "\n",
        "## Sanity Checks\n",
        "print(\"The shape of this numpy array is\", num_numpy.shape)\n",
        "\n",
        "print(\"The type of this numpy array is\", type(num_numpy))\n",
        "\n",
        "```\n",
        "\n",
        "\n",
        "Here is your task:\n",
        "\n",
        "\n",
        "1.   Create a list `myList` with values **34, -5, 0, -1, 1.5**\n",
        "2.   (Sanity Check) Output the length and the type of `myList`\n",
        "3.   Create a numpy array `myArray` and initialize it with `myList`\n",
        "4.   (Sanity Check) Output the shape and the type of `myArray`\n",
        "\n",
        "\n"
      ]
    },
    {
      "cell_type": "code",
      "execution_count": 5,
      "metadata": {
        "colab": {
          "base_uri": "https://localhost:8080/"
        },
        "id": "aA0fwHdozOVJ",
        "outputId": "c91390f5-a640-46d2-92b2-bee90643c78f"
      },
      "outputs": [
        {
          "name": "stdout",
          "output_type": "stream",
          "text": [
            "The length and type of this array is  5  and  <class 'list'>\n",
            "Ths shape and type of this numpy array is  (5,)  and  <class 'list'>\n"
          ]
        }
      ],
      "source": [
        "# Task1: Create a simple numpy array\n",
        "########################\n",
        "## YOUR CODE STARTS HERE\n",
        "########################\n",
        "\n",
        "myList = [-34, -5, 0, -1, 1.5]\n",
        "print(\"The length and type of this array is \", len(myList), \" and \", type(myList))\n",
        "myArray = np.array(myList)\n",
        "print(\"Ths shape and type of this numpy array is \", myArray.shape, \" and \", type(myList))\n",
        "\n",
        "\n",
        "########################\n",
        "## YOUR CODE ENDS HERE\n",
        "########################"
      ]
    },
    {
      "cell_type": "markdown",
      "metadata": {
        "id": "zE_wQklo1PJI"
      },
      "source": [
        "### Task 2: Access and modify elements in your numpy array\n",
        "\n",
        "Now you have your `myArray`. How should we access elements in this numpy array?\n",
        "\n",
        "Recall from last lecture, we can access the elements in a list using square brackets `[]`. Can we use that for numpy arrays❓ 🤔\n",
        "\n",
        "\n",
        "\n",
        "```\n",
        "# Let me use the same list from the previous example\n",
        "num_list = [1, 2, 3]\n",
        "\n",
        "# To access the first element in the list\n",
        "num1 = num_list[0]\n",
        "\n",
        "# Sanity Check\n",
        "print(num1)              ------>  1\n",
        "\n",
        "# I want to change the first element from 1 to 5\n",
        "num_list[0] = 5\n",
        "\n",
        "# Sanity Check\n",
        "print(num_list)            ------> [5, 2, 3]\n",
        "```\n",
        "\n",
        "**Slicing**: Similar to Python lists, numpy arrays can be sliced.\n",
        "\n",
        "```\n",
        "# Slicing in python list\n",
        "\n",
        "print(num_list[1:])     ------>  [2, 3]\n",
        "\n",
        "print(num_list[-1:])    ------>  [3]\n",
        "\n",
        "print(num_list[0:1])    ------>  [5]\n",
        "\n",
        "```\n",
        "\n",
        "\n",
        "Here is your task:\n",
        "\n",
        "\n",
        "1.   Access your numpy array `myArray` using index number **0, 3, and -2**\n",
        "2.   Change the first number (the 0th element) in `myArray` to **3**\n",
        "3.   (Sanity Check) Print out your numpy array\n",
        "4.   Declare and initialize two variables `m = 2` and `n = 4`\n",
        "5.   Use slicing to access the element in between `m` and `n`\n",
        "6.   (Sanity Check) Try to explain this to yourself. Does the result make sense?\n",
        "7.   (Challenge ✊) What if we change `n = -1` ?"
      ]
    },
    {
      "cell_type": "code",
      "execution_count": 6,
      "metadata": {
        "colab": {
          "base_uri": "https://localhost:8080/"
        },
        "id": "0VG5jCgpu64R",
        "outputId": "8dcbba2f-1998-430c-c9c3-68dd00518948"
      },
      "outputs": [
        {
          "name": "stdout",
          "output_type": "stream",
          "text": [
            "-34.0\n",
            "-1.0\n",
            "-1.0\n",
            "[ 3.  -5.   0.  -1.   1.5]\n",
            "[-1.]\n"
          ]
        },
        {
          "data": {
            "text/plain": [
              "' \\n    myArray[-1] would refer to the last element of the array, so slicing up to -1, would basically\\n    include all the elements from m+1 to the second last element in the array.\\n\\n'"
            ]
          },
          "execution_count": 6,
          "metadata": {},
          "output_type": "execute_result"
        }
      ],
      "source": [
        "# Task2: Access and modify elements\n",
        "########################\n",
        "## YOUR CODE STARTS HERE\n",
        "########################\n",
        "print(myArray[0])\n",
        "print(myArray[3])\n",
        "print(myArray[-2])\n",
        "\n",
        "myArray[0] = 3\n",
        "\n",
        "print(myArray)\n",
        "\n",
        "m, n = 2, 4\n",
        "\n",
        "print(myArray[m + 1:n])\n",
        "\n",
        "''' \n",
        "    myArray[-1] would refer to the last element of the array, so slicing up to -1, would basically\n",
        "    include all the elements from m+1 to the second last element in the array.\n",
        "\n",
        "'''\n",
        "\n",
        "\n",
        "########################\n",
        "## YOUR CODE ENDS HERE\n",
        "########################"
      ]
    },
    {
      "cell_type": "markdown",
      "metadata": {
        "id": "7c4ILYNRDdq0"
      },
      "source": [
        "### Pop Quiz 1! ✍\n",
        "\n",
        "What command should we use to output the dimensions (length) of a python list?\n",
        "\n",
        "A `.shape`\n",
        "\n",
        "B `.len`\n",
        "\n",
        "C `.shape` and `.len`\n",
        "\n",
        "\n",
        "What command should we use to output the dimensions (as tuples) of a numpy array?\n",
        "\n",
        "A `.shape`\n",
        "\n",
        "B `.len`\n",
        "\n",
        "C `.shape` and `.len`\n"
      ]
    },
    {
      "cell_type": "code",
      "execution_count": 7,
      "metadata": {
        "colab": {
          "base_uri": "https://localhost:8080/"
        },
        "id": "GUuMEMFGGBJ_",
        "outputId": "3d1aa329-d726-4881-f324-045eed6a1baa"
      },
      "outputs": [
        {
          "name": "stdout",
          "output_type": "stream",
          "text": [
            "Pop Quiz 1 answers: B  ,  A\n"
          ]
        }
      ],
      "source": [
        "# Cast the numbers to \"chr\" to see answers\n",
        "print(\"Pop Quiz 1 answers:\", chr(66), \" , \", chr(65))"
      ]
    },
    {
      "cell_type": "markdown",
      "metadata": {
        "id": "W-xjaiUsHH3n"
      },
      "source": [
        "### Task 3: Manipulating 2D numpy array ⛽\n",
        "\n",
        "We provide you the code to create a 2D numpy array.\n",
        "\n",
        "Here is your task:\n",
        "\n",
        "\n",
        "1.   (Sanity Check) Print out the 2D numpy array `myArray_2D` and its dimensions\n",
        "2.   Access elements `2` and `5` from `nested_lists` with list indexing\n",
        "3.   Access elements `2` and `5` from `myArray_2D` with numpy array indexing.\n",
        "4.   Increment all elements in the `nested_lists` by 1\n",
        "5.   Increment all elements in the `myArray_2D` by 1\n",
        "6.   Which one is easier? ⛈\n",
        "7.   (Challenge ✊✊) Use slicing to access the first row of `myArray_2D`? How about the second column?"
      ]
    },
    {
      "cell_type": "code",
      "execution_count": 20,
      "metadata": {
        "colab": {
          "base_uri": "https://localhost:8080/"
        },
        "id": "5Fk1Ty9U1N1R",
        "outputId": "b2fecb52-a957-4ed9-be27-c016435b0785"
      },
      "outputs": [
        {
          "name": "stdout",
          "output_type": "stream",
          "text": [
            "2\n",
            "5\n",
            "2\n",
            "5\n",
            "[[3, 4], [5, 6]]\n",
            "[[3 4]\n",
            " [5 6]]\n",
            "slicing\n",
            "[3 4]\n",
            "[4 6]\n"
          ]
        }
      ],
      "source": [
        "# We have created these variables\n",
        "nested_lists = [[2, 3], [4, 5]]\n",
        "myArray_2D = np.array(nested_lists)\n",
        "\n",
        "# Task3: Manipulating 2D numpy array\n",
        "########################\n",
        "## YOUR CODE STARTS HERE\n",
        "########################\n",
        "\n",
        "print(nested_lists[0][0])\n",
        "print(nested_lists[1][1])\n",
        "\n",
        "print(myArray_2D[0][0])\n",
        "print(myArray_2D[1][1])\n",
        "\n",
        "for i in range(0,2):\n",
        "    for j in range(0,2):\n",
        "        nested_lists[i][j] += 1\n",
        "print(nested_lists)\n",
        "\n",
        "myArray_2D += 1\n",
        "print(myArray_2D)\n",
        "\n",
        "''' Definitely numpy array was easier '''\n",
        "\n",
        "print(\"slicing\")\n",
        "print(myArray_2D[0, :])\n",
        "print(myArray_2D[:, 1])\n",
        "\n",
        "\n",
        "########################\n",
        "## YOUR CODE ENDS HERE\n",
        "########################"
      ]
    },
    {
      "cell_type": "markdown",
      "metadata": {
        "id": "70re_RrmNgjj"
      },
      "source": [
        "### Numpy Challenge Question (✊)\n",
        "\n",
        "Given an array of integers [ a<sub>1</sub>, a<sub>2</sub>, a<sub>3</sub>, ..., a<sub>n</sub> ], how to output [ a<sub>2</sub> - a<sub>1</sub>, a<sub>3</sub> - a<sub>2</sub>, a<sub>4</sub> - a<sub>3</sub>, ..., a<sub>n</sub> - a<sub>n-1</sub> ]\n",
        "\n",
        "Example:\n",
        "\n",
        "\n",
        "\n",
        "```\n",
        "a = [ 1, 2, 4, 7 ]\n",
        "\n",
        "Output = [ 1, 2, 4 ]\n",
        "```\n",
        "\n",
        "\n",
        "\n",
        "\n",
        "\n",
        "[Hint](https://numpy.org/doc/stable/reference/generated/numpy.ediff1d.html)"
      ]
    },
    {
      "cell_type": "code",
      "execution_count": 21,
      "metadata": {
        "colab": {
          "base_uri": "https://localhost:8080/"
        },
        "id": "-IYR8I3Tvx3I",
        "outputId": "cc3e2384-8fe1-4771-acb7-c58c07497307"
      },
      "outputs": [
        {
          "name": "stdout",
          "output_type": "stream",
          "text": [
            "[  -2    6   90 -100]\n"
          ]
        }
      ],
      "source": [
        "int_array = [5, 3, 9, 99, -1]\n",
        "# Numpy challenge question\n",
        "########################\n",
        "## YOUR CODE STARTS HERE\n",
        "########################\n",
        "\n",
        "myArray2 = np.array(int_array)\n",
        "\n",
        "myArray2 = myArray2[1:] - myArray2[0:-1]\n",
        "\n",
        "print(myArray2)\n",
        "\n",
        "\n",
        "########################\n",
        "## YOUR CODE ENDS HERE\n",
        "########################"
      ]
    },
    {
      "cell_type": "markdown",
      "metadata": {
        "id": "hi_QTsLxomW4"
      },
      "source": [
        "### Task 4: Understand some of the common functions Python programmers use! 💻\n",
        "\n",
        "\n",
        "Example 1: Evenly spaced values within a given interval.\n",
        "```\n",
        "# Create an array with values\n",
        "even_spaced_array = np.arange(7) ------> [0, 1, 2, 3, 4, 5, 6]\n",
        "```\n",
        "\n"
      ]
    },
    {
      "cell_type": "code",
      "execution_count": 24,
      "metadata": {
        "colab": {
          "base_uri": "https://localhost:8080/"
        },
        "id": "uAbXWlkEFzyX",
        "outputId": "58a2be0e-ca74-4ab8-bef9-d8737ef75e97"
      },
      "outputs": [
        {
          "name": "stdout",
          "output_type": "stream",
          "text": [
            "[0 1 2 3 4 5 6]\n",
            "[0, 1, 2, 3, 4, 5, 6]\n"
          ]
        }
      ],
      "source": [
        "#Task4: Understanding np.arange\n",
        "########################\n",
        "## YOUR CODE STARTS HERE\n",
        "########################\n",
        "\n",
        "# Create a list of numbers from 1 to 6 (including 6)\n",
        "even_spaced_array = np.arange(7)\n",
        "print(even_spaced_array)\n",
        "\n",
        "even_spaced_list = [i for i in range(0,7)]\n",
        "print(even_spaced_list)\n",
        "\n",
        "########################\n",
        "## YOUR CODE ENDS HERE\n",
        "########################"
      ]
    },
    {
      "cell_type": "markdown",
      "metadata": {
        "id": "OwZrY1oZQLi4"
      },
      "source": [
        "## Matplotlib 🖼\n",
        "\n",
        "\n",
        "[Matplotlib](https://) is a plotting library. In this section give a brief introduction to the `matplotlib.pyplot` module, which provides a plotting system similar to that of MATLAB.\n",
        "\n",
        "First, let's import the pyplot module from matplotlib package.\n",
        "\n",
        "```\n",
        "import package_name.module_name as alias\n",
        "```\n",
        "\n"
      ]
    },
    {
      "cell_type": "code",
      "execution_count": 25,
      "metadata": {
        "id": "kTq88COnO-WJ"
      },
      "outputs": [],
      "source": [
        "# Import matplotlib\n",
        "########################\n",
        "## YOUR CODE STARTS HERE\n",
        "########################\n",
        "\n",
        "# # Import the pyplot module from matplotlib package (package_name = matplotlib.pyplot) using the alias \"plt\"\n",
        "\n",
        "import matplotlib.pyplot as plt\n",
        "\n",
        "########################\n",
        "## YOUR CODE ENDS HERE\n",
        "########################"
      ]
    },
    {
      "cell_type": "code",
      "execution_count": 26,
      "metadata": {
        "colab": {
          "base_uri": "https://localhost:8080/",
          "height": 372
        },
        "id": "wFPYjHoanAFL",
        "outputId": "11e32d97-9df5-4f19-9b16-b14921efbb88"
      },
      "outputs": [
        {
          "data": {
            "image/png": "[encoded data removed]",
            "text/plain": [
              "<Figure size 800x500 with 1 Axes>"
            ]
          },
          "metadata": {},
          "output_type": "display_data"
        }
      ],
      "source": [
        "x = [0, 1, 2, 3, 4]\n",
        "y = [0, 2, 4, 6, 8]\n",
        "\n",
        "# plt.figure\n",
        "plt.figure(figsize = (8, 5))\n",
        "\n",
        "# plot y = 2x\n",
        "plt.plot(x, y, label = '2x')\n",
        "\n",
        "# plot y = x^2\n",
        "plt.plot(x, np.array(x) ** 2, color = 'red', linestyle = '--', label = 'x^2')\n",
        "\n",
        "plt.title(\"My first graph!\", fontdict={'fontname' : 'Comic Sans MS', 'fontsize': 20})\n",
        "\n",
        "plt.xlabel('X Axis')\n",
        "plt.ylabel('y Axis')\n",
        "\n",
        "plt.xticks([0, 1, 2, 3, 4])\n",
        "\n",
        "\n",
        "plt.legend()\n",
        "plt.ylim(top=10)\n",
        "plt.show()"
      ]
    },
    {
      "cell_type": "markdown",
      "metadata": {
        "id": "Z4YqOclm-lhL"
      },
      "source": [
        "### Pop Quiz 2! ✍\n",
        "\n",
        "Ben wants to plot only the data points with matplotlib. Which function should he use?\n",
        "\n",
        "A `plt.plot()`\n",
        "\n",
        "B `plt.scatter()`\n",
        "\n",
        "C `plt.pie()`\n",
        "\n",
        "D `plt.bar()`\n",
        "\n",
        "\n",
        "Bruce wants to use green triangular markers (pointing left) for his graph. How should he set the `marker=` ?\n",
        "\n",
        "[This webpage](https://matplotlib.org/stable/api/markers_api.html#module-matplotlib.markers) might be helpful\n",
        "\n",
        "A `marker = 'g<'`\n",
        "\n",
        "B `marker = 'r<'`\n",
        "\n",
        "C `marker = 'g^'`"
      ]
    },
    {
      "cell_type": "markdown",
      "metadata": {
        "id": "enkplposnetu"
      },
      "source": [
        "### Task 5: Create your first matplotlib graph 🌴 (Big-O complexity chart)\n",
        "\n",
        "\n",
        "What is a [Big-O complexity chart](https://www.bigocheatsheet.com/)?\n",
        "\n",
        "\n",
        "We want to plot the functions below\n",
        "\n",
        "*   y<sub>1</sub>(n) = O(1)\n",
        "*   y<sub>2</sub>(n) = O(log<sub>2</sub> n)\n",
        "*   y<sub>3</sub>(n) = O(n)\n",
        "*   y<sub>4</sub>(n) = O(n * log<sub>2</sub> n)\n",
        "*   y<sub>5</sub>(n) = O(n<sup>2</sup>)\n",
        "*   y<sub>6</sub>(n) = O(2<sup>n</sup>)\n",
        "*   y<sub>7</sub>(n) = O(n!)\n",
        "\n",
        "Hints:\n",
        "\n",
        "1.   In Python, you can express power using `**`. For example, 2 ** 3 = 8 (2<sup>3</sup> = 8)\n",
        "2.   For factorial, you can write a function that calculates that or use the `factorial()` in the `math` library. And Yes, you need to import the math library :)\n",
        "\n",
        "\n"
      ]
    },
    {
      "cell_type": "code",
      "execution_count": 31,
      "metadata": {
        "colab": {
          "base_uri": "https://localhost:8080/",
          "height": 321
        },
        "id": "wlWCmQJ9mPXj",
        "outputId": "90eddda7-c0bb-479b-b656-483728527ccd"
      },
      "outputs": [
        {
          "name": "stdout",
          "output_type": "stream",
          "text": [
            "y1:  [1 1 1 1 1 1]\n",
            "y2:  [0.         1.         1.5849625  2.         2.32192809 2.5849625 ]\n"
          ]
        },
        {
          "data": {
            "text/plain": [
              "<matplotlib.legend.Legend at 0x126ff5f40>"
            ]
          },
          "execution_count": 31,
          "metadata": {},
          "output_type": "execute_result"
        },
        {
          "data": {
            "image/png": "[encoded data removed]",
            "text/plain": [
              "<Figure size 640x480 with 1 Axes>"
            ]
          },
          "metadata": {},
          "output_type": "display_data"
        }
      ],
      "source": [
        "# Import math\n",
        "import math\n",
        "\n",
        "# X_axis\n",
        "x = np.arange(1,7,1) # start, stop, step\n",
        "\n",
        "# y_axis\n",
        "y1 = np.repeat(1, 6)\n",
        "y2 = np.log2(x)\n",
        "\n",
        "########################\n",
        "## YOUR CODE STARTS HERE\n",
        "########################\n",
        "\n",
        "# Sanity Check\n",
        "print(\"y1: \", y1)\n",
        "print(\"y2: \", y2)\n",
        "\n",
        "# Generate y3-y7\n",
        "y3 = x\n",
        "y4 = x * np.log2(x)\n",
        "y5 = x ** 2\n",
        "y6 = 2 ** x\n",
        "y7 = [math.factorial(i) for i in x]\n",
        "\n",
        "\n",
        "########################\n",
        "## YOUR CODE ENDS HERE\n",
        "########################\n",
        "\n",
        "# Plot y1, y4, and y7 on the x-y plane\n",
        "########################\n",
        "## YOUR CODE STARTS HERE\n",
        "########################\n",
        "\n",
        "# Plot y1, y4, an y7\n",
        "plt.plot(x, y1, label=\"linear\")\n",
        "plt.plot(x,y4, label=\"n*log\")\n",
        "plt.plot(x,y7, label=\"Factorial\")\n",
        "plt.legend()\n",
        "\n",
        "\n",
        "########################\n",
        "## YOUR CODE ENDS HERE\n",
        "########################"
      ]
    },
    {
      "cell_type": "markdown",
      "metadata": {
        "id": "AdX2K6Sh9hhd"
      },
      "source": [
        "### Task 6 (Homework) Real World Data: 🌐\n",
        "\n",
        "Adapted from \"[matplotlib_tutorial](https://github.com/KeithGalli/matplotlib_tutorial)\" by Keith Galli\n",
        "\n"
      ]
    },
    {
      "cell_type": "code",
      "execution_count": 32,
      "metadata": {
        "id": "U26vrar79lHB"
      },
      "outputs": [],
      "source": [
        "# Load libraries\n",
        "import numpy as np # You should understand this line\n",
        "import matplotlib.pyplot as plt # You should understand this line\n",
        "import pandas as pd"
      ]
    },
    {
      "cell_type": "code",
      "execution_count": 37,
      "metadata": {
        "colab": {
          "base_uri": "https://localhost:8080/"
        },
        "id": "LRU_ty2YGeCj",
        "outputId": "1cb60a57-af06-43f5-d5ae-c5f2aa6dfb13"
      },
      "outputs": [],
      "source": [
        "# mount Google Drive\n",
        "# This code connects this jupyter notebook with all the files in your google drive\n",
        "# from google.colab import drive\n",
        "# drive.mount('/content/gdrive')"
      ]
    },
    {
      "cell_type": "code",
      "execution_count": 41,
      "metadata": {
        "colab": {
          "base_uri": "https://localhost:8080/",
          "height": 354
        },
        "id": "mndsfq6HIYVW",
        "outputId": "48d588b2-c7ff-4b29-cd32-84d4569c6583"
      },
      "outputs": [
        {
          "data": {
            "image/png": "[encoded data removed]",
            "text/plain": [
              "<Figure size 800x500 with 1 Axes>"
            ]
          },
          "metadata": {},
          "output_type": "display_data"
        }
      ],
      "source": [
        "gas = pd.read_csv('gas_prices.csv') # Don't worry about this line, we will learn it next lecture\n",
        "# If you are curious:\n",
        "# 'gas_price.csv' is a \"csv\" file (you don't have to understand csv).\n",
        "# 'read_csv' function reads in the data so now Python can understand.\n",
        "# 'pd' is the alias for the \"pandas\" library.\n",
        "# 'gas' is just the variable that stores the data.\n",
        "\n",
        "plt.figure(figsize=(8,5)) # Let's define the size of our figure\n",
        "\n",
        "plt.title('Gas Prices over Time (in USD)', fontdict={'fontweight':'bold', 'fontsize': 18}) # This should seem familiar!\n",
        "\n",
        "# Initialize X and ys\n",
        "X_year = gas['Year']\n",
        "y_USA = gas['USA']\n",
        "y_Canada = gas['Canada']\n",
        "y_SouthKorea = gas['South Korea']\n",
        "y_Australia = gas['Australia']\n",
        "\n",
        "# Plot!\n",
        "########################\n",
        "## YOUR CODE STARTS HERE\n",
        "########################\n",
        "\n",
        "# See if you can use a for loop to prevent repetitive codes\n",
        "# Use 'b.-' for USA, 'r.-' for Cananda, 'g.-' for South Korea, and 'y.-' for Australia\n",
        "# Don't forget to label each plot (later used by legend())\n",
        "\n",
        "countries = {\n",
        "    \"USA\": \"b.-\",\n",
        "    \"Canada\": \"r.-\",\n",
        "    \"South Korea\": \"g.-\",\n",
        "    \"Australia\": \"y.-\"\n",
        "}\n",
        "\n",
        "# Add x and y axis labels and call legend()\n",
        "# Your x-axis should be 'Year', and y-axis should be 'US Dollars'\n",
        "\n",
        "for country, style in countries.items():\n",
        "    plt.plot(gas['Year'], gas[country], style, label=country)\n",
        "\n",
        "# Add x and y axis labels and call legend()\n",
        "# Your x-axis should be 'Year', and y-axis should be 'US Dollars'\n",
        "\n",
        "\n",
        "# Add x and y axis labels and call legend()\n",
        "plt.xlabel('Year')\n",
        "plt.ylabel('US Dollars')\n",
        "plt.legend()\n",
        "\n",
        "########################\n",
        "## YOUR CODE ENDS HERE\n",
        "########################\n",
        "\n",
        "\n",
        "plt.xticks(gas.Year[::3].tolist()+[2011])\n",
        "\n",
        "\n",
        "plt.show()\n"
      ]
    },
    {
      "cell_type": "markdown",
      "metadata": {},
      "source": [
        "### Write Your Report Here\n"
      ]
    },
    {
      "cell_type": "code",
      "execution_count": 34,
      "metadata": {
        "id": "qSzh8p9o80qn"
      },
      "outputs": [],
      "source": [
        "'''\n",
        "Included in this notebook is basically a tutorial on using the numpy library, slicing, and using the matplotlib library\n",
        "\n",
        "No real difficulties were encountered\n",
        "\n",
        "'''"
      ]
    }
  ],
  "metadata": {
    "colab": {
      "collapsed_sections": [
        "7IjbUCaVr2q-"
      ],
      "provenance": []
    },
    "kernelspec": {
      "display_name": "Python 3",
      "name": "python3"
    },
    "language_info": {
      "codemirror_mode": {
        "name": "ipython",
        "version": 3
      },
      "file_extension": ".py",
      "mimetype": "text/x-python",
      "name": "python",
      "nbconvert_exporter": "python",
      "pygments_lexer": "ipython3",
      "version": "3.8.16"
    }
  },
  "nbformat": 4,
  "nbformat_minor": 0
}
